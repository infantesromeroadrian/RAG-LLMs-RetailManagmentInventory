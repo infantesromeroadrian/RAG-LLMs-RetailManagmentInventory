{
 "cells": [
  {
   "metadata": {
    "ExecuteTime": {
     "end_time": "2024-10-26T17:14:50.943757Z",
     "start_time": "2024-10-26T17:14:50.936042Z"
    }
   },
   "cell_type": "code",
   "source": [
    "# Accedemos a nuestras claves API con dotenv\n",
    "import os\n",
    "from dotenv import load_dotenv\n",
    "from langchain_openai import OpenAI, ChatOpenAI\n",
    "from langchain_community.document_loaders import TextLoader\n",
    "from langchain_community.vectorstores import FAISS\n",
    "from langchain_openai import OpenAIEmbeddings\n",
    "from langchain_text_splitters import CharacterTextSplitter\n",
    "from langchain_core.prompts import ChatPromptTemplate\n",
    "from langchain_core.output_parsers import StrOutputParser\n",
    "from langchain_core.runnables import RunnablePassthrough\n",
    "import pandas as pd\n",
    "\n",
    "# Cargar las variables de entorno\n",
    "load_dotenv()\n",
    "# OpenAI API Key\n",
    "openai_api_key = os.getenv(\"OPENAI_API_KEY\")"
   ],
   "id": "91c5e3b817ece7ba",
   "outputs": [],
   "execution_count": 3
  },
  {
   "metadata": {
    "ExecuteTime": {
     "end_time": "2024-10-26T17:14:58.031338Z",
     "start_time": "2024-10-26T17:14:58.023524Z"
    }
   },
   "cell_type": "code",
   "source": [
    "# Definir la clase para el sistema RAG\n",
    "class SistemaRAG:\n",
    "    def __init__(self, ruta_archivo, api_key, chunk_size=1000, chunk_overlap=0):\n",
    "        \"\"\"\n",
    "        Inicializa el sistema RAG con los parámetros proporcionados.\n",
    "        :param ruta_archivo: Ruta al archivo que contiene los datos de entrada.\n",
    "        :param api_key: Clave API para acceder a los servicios de OpenAI.\n",
    "        :param chunk_size: Tamaño de cada chunk al dividir el documento.\n",
    "        :param chunk_overlap: Solapamiento entre los chunks de texto.\n",
    "        \"\"\"\n",
    "        self.ruta_archivo = ruta_archivo\n",
    "        self.api_key = api_key\n",
    "        self.chunk_size = chunk_size\n",
    "        self.chunk_overlap = chunk_overlap\n",
    "        self.vector_db = None\n",
    "        self.retriever = None\n",
    "        self.chat_model = ChatOpenAI(model=\"gpt-4o-mini\", api_key=self.api_key)\n",
    "\n",
    "        # Inicializar la carga de documentos y procesamiento\n",
    "        self._cargar_y_procesar_documento()\n",
    "\n",
    "    def _cargar_y_procesar_documento(self):\n",
    "        \"\"\"\n",
    "        Carga el documento y lo procesa para dividirlo en chunks y crear la base de datos vectorial.\n",
    "        \"\"\"\n",
    "        # Cargar documento\n",
    "        loader = TextLoader(self.ruta_archivo)\n",
    "        loaded_document = loader.load()\n",
    "\n",
    "        # Dividir el documento en chunks\n",
    "        text_splitter = CharacterTextSplitter(chunk_size=self.chunk_size, chunk_overlap=self.chunk_overlap)\n",
    "        chunks_of_text = text_splitter.split_documents(loaded_document)\n",
    "\n",
    "        # Crear los embeddings usando OpenAI\n",
    "        embeddings = OpenAIEmbeddings(api_key=self.api_key)\n",
    "\n",
    "        # Crear la base de datos vectorial con FAISS\n",
    "        self.vector_db = FAISS.from_documents(chunks_of_text, embeddings)\n",
    "\n",
    "        # Crear el retriever para buscar documentos\n",
    "        self.retriever = self.vector_db.as_retriever(search_kwargs={\"k\": 5})\n",
    "\n",
    "    def realizar_consulta(self, consulta):\n",
    "        \"\"\"\n",
    "        Realiza una consulta al sistema RAG y devuelve la respuesta.\n",
    "        :param consulta: La consulta a realizar.\n",
    "        :return: Respuesta generada por el sistema RAG.\n",
    "        \"\"\"\n",
    "        # Crear el template de prompt\n",
    "        prompt_template = \"\"\"Answer the question based only on the following context:\n",
    "\n",
    "{context}\n",
    "\n",
    "Question: {question}\n",
    "\"\"\"\n",
    "        prompt = ChatPromptTemplate.from_template(prompt_template)\n",
    "\n",
    "        # Crear una función para formatear los documentos recuperados\n",
    "        def format_docs(docs):\n",
    "            return \"\\n\\n\".join([d.page_content for d in docs])\n",
    "\n",
    "        # Crear la cadena completa para invocar al modelo\n",
    "        chain = (\n",
    "                {\"context\": self.retriever | format_docs, \"question\": RunnablePassthrough()}\n",
    "                | prompt\n",
    "                | self.chat_model\n",
    "                | StrOutputParser()\n",
    "        )\n",
    "\n",
    "        # Realizar la consulta\n",
    "        response = chain.invoke(consulta)\n",
    "        return response"
   ],
   "id": "64ec3718a1d8c76a",
   "outputs": [],
   "execution_count": 4
  },
  {
   "metadata": {
    "ExecuteTime": {
     "end_time": "2024-10-26T17:15:10.076187Z",
     "start_time": "2024-10-26T17:15:06.207799Z"
    }
   },
   "cell_type": "code",
   "source": [
    "# Ejemplo de uso del sistema RAG\n",
    "ruta_csv = \"../data/raw_data/accessories.csv\"\n",
    "sistema_rag = SistemaRAG(ruta_archivo=ruta_csv, api_key=openai_api_key)\n",
    "\n",
    "# Realizar una consulta al sistema RAG\n",
    "consulta = \"What is the price of the black 3D glasses?\"\n",
    "response = sistema_rag.realizar_consulta(consulta)\n",
    "print(response)"
   ],
   "id": "420246a8f315ee8b",
   "outputs": [
    {
     "name": "stdout",
     "output_type": "stream",
     "text": [
      "The price of the black 3D glasses is 490.\n"
     ]
    }
   ],
   "execution_count": 6
  },
  {
   "metadata": {
    "ExecuteTime": {
     "end_time": "2024-10-26T17:15:12.539958Z",
     "start_time": "2024-10-26T17:15:12.535433Z"
    }
   },
   "cell_type": "code",
   "source": [
    "# Definir la clase para cargar datos CSV\n",
    "class CargadorDatosCSV:\n",
    "    def __init__(self, ruta_archivo):\n",
    "        \"\"\"\n",
    "        Inicializa la clase con la ruta del archivo CSV.\n",
    "        :param ruta_archivo: Ruta al archivo CSV que contiene los datos de inventario.\n",
    "        \"\"\"\n",
    "        self.ruta_archivo = ruta_archivo\n",
    "        self.df = None\n",
    "\n",
    "    def cargar_datos(self):\n",
    "        \"\"\"\n",
    "        Carga los datos desde el archivo CSV especificado y los almacena en un DataFrame.\n",
    "        \"\"\"\n",
    "        try:\n",
    "            self.df = pd.read_csv(self.ruta_archivo)\n",
    "            # Añadir una columna de 'Stock' si no existe en el CSV\n",
    "            if 'Stock' not in self.df.columns:\n",
    "                self.df['Stock'] = 0  # Inicializar todos los productos con stock 0\n",
    "            print(\"Datos cargados exitosamente.\")\n",
    "            # Mostrar las columnas cargadas\n",
    "            print(\"Columnas del DataFrame:\", self.df.columns.tolist())\n",
    "        except FileNotFoundError:\n",
    "            print(f\"Error: El archivo en la ruta '{self.ruta_archivo}' no fue encontrado.\")\n",
    "        except pd.errors.EmptyDataError:\n",
    "            print(\"Error: El archivo CSV está vacío.\")\n",
    "        except Exception as e:\n",
    "            print(f\"Error inesperado: {e}\")"
   ],
   "id": "8c529a9c0a0400fb",
   "outputs": [],
   "execution_count": 7
  },
  {
   "metadata": {
    "ExecuteTime": {
     "end_time": "2024-10-26T17:15:13.809883Z",
     "start_time": "2024-10-26T17:15:13.798284Z"
    }
   },
   "cell_type": "code",
   "source": [
    "# Crear la instancia del cargador de datos CSV\n",
    "cargador = CargadorDatosCSV(ruta_csv)\n",
    "cargador.cargar_datos()"
   ],
   "id": "8729746a0b34cc44",
   "outputs": [
    {
     "name": "stdout",
     "output_type": "stream",
     "text": [
      "Datos cargados exitosamente.\n",
      "Columnas del DataFrame: ['Name', 'Variation', 'DIY', 'Buy', 'Sell', 'Color 1', 'Color 2', 'Size', 'Miles Price', 'Source', 'Source Notes', 'Seasonal Availability', 'Mannequin Piece', 'Version', 'Style', 'Label Themes', 'Type', 'Villager Equippable', 'Catalog', 'Filename', 'Internal ID', 'Unique Entry ID', 'Stock']\n"
     ]
    }
   ],
   "execution_count": 8
  },
  {
   "metadata": {
    "ExecuteTime": {
     "end_time": "2024-10-26T17:15:15.322571Z",
     "start_time": "2024-10-26T17:15:15.316738Z"
    }
   },
   "cell_type": "code",
   "source": [
    "# Definir la clase para gestionar el stock\n",
    "class GestorStock:\n",
    "    def __init__(self, df):\n",
    "        \"\"\"\n",
    "        Inicializa la clase con el DataFrame del inventario.\n",
    "        :param df: DataFrame que contiene los datos del inventario.\n",
    "        \"\"\"\n",
    "        self.df = df\n",
    "\n",
    "    def actualizar_stock(self, producto_id, cantidad):\n",
    "        \"\"\"\n",
    "        Actualiza el stock de un producto.\n",
    "        :param producto_id: ID del producto a actualizar.\n",
    "        :param cantidad: Nueva cantidad a asignar.\n",
    "        \"\"\"\n",
    "        # Verificar que la columna exista y el producto también\n",
    "        id_col = 'Unique Entry ID'  # Actualizamos el nombre de la columna de acuerdo con el CSV\n",
    "        cantidad_col = 'Stock'  # Nombre que asignamos a la columna de cantidad de stock\n",
    "\n",
    "        if id_col in self.df.columns:\n",
    "            if producto_id in self.df[id_col].values:\n",
    "                self.df.loc[self.df[id_col] == producto_id, cantidad_col] = cantidad\n",
    "                print(f\"Stock actualizado para el producto con ID {producto_id}. Nueva cantidad: {cantidad}\")\n",
    "            else:\n",
    "                print(f\"Producto con ID {producto_id} no encontrado.\")\n",
    "        else:\n",
    "            print(f\"No se encontró la columna '{id_col}' en el DataFrame.\")\n",
    "\n",
    "    def verificar_stock(self, producto_id):\n",
    "        \"\"\"\n",
    "        Verifica la cantidad de stock de un producto específico.\n",
    "        :param producto_id: ID del producto a verificar.\n",
    "        :return: Cantidad de stock disponible.\n",
    "        \"\"\"\n",
    "        id_col = 'Unique Entry ID'\n",
    "        cantidad_col = 'Stock'\n",
    "\n",
    "        if id_col in self.df.columns:\n",
    "            if producto_id in self.df[id_col].values:\n",
    "                stock = self.df.loc[self.df[id_col] == producto_id, cantidad_col].values[0]\n",
    "                print(f\"Cantidad de stock para el producto con ID {producto_id}: {stock}\")\n",
    "                return stock\n",
    "            else:\n",
    "                print(f\"Producto con ID {producto_id} no encontrado.\")\n",
    "        else:\n",
    "            print(f\"No se encontró la columna '{id_col}' en el DataFrame.\")\n",
    "        return None\n",
    "\n",
    "    def obtener_dataframe(self):\n",
    "        \"\"\"\n",
    "        Retorna el DataFrame actualizado.\n",
    "        :return: DataFrame actualizado.\n",
    "        \"\"\"\n",
    "        return self.df"
   ],
   "id": "54e4cdf2eb9f128c",
   "outputs": [],
   "execution_count": 9
  },
  {
   "metadata": {
    "ExecuteTime": {
     "end_time": "2024-10-26T17:15:16.297691Z",
     "start_time": "2024-10-26T17:15:16.292597Z"
    }
   },
   "cell_type": "code",
   "source": [
    "# Inicializamos el gestor del stock con los datos cargados\n",
    "gestor_stock = GestorStock(cargador.df)"
   ],
   "id": "c9432ea24458b96",
   "outputs": [],
   "execution_count": 10
  },
  {
   "metadata": {
    "ExecuteTime": {
     "end_time": "2024-10-26T17:15:17.091526Z",
     "start_time": "2024-10-26T17:15:17.087050Z"
    }
   },
   "cell_type": "code",
   "source": [
    "# Actualizamos el stock de un producto específico\n",
    "gestor_stock.actualizar_stock(producto_id='FNxEraBTeWRiCvtFu', cantidad=45)"
   ],
   "id": "782c0d462b214cf",
   "outputs": [
    {
     "name": "stdout",
     "output_type": "stream",
     "text": [
      "Stock actualizado para el producto con ID FNxEraBTeWRiCvtFu. Nueva cantidad: 45\n"
     ]
    }
   ],
   "execution_count": 11
  },
  {
   "metadata": {
    "ExecuteTime": {
     "end_time": "2024-10-26T17:15:17.823985Z",
     "start_time": "2024-10-26T17:15:17.810749Z"
    }
   },
   "cell_type": "code",
   "source": [
    "# Verificar la cantidad de stock del producto actualizado\n",
    "gestor_stock.verificar_stock(producto_id='FNxEraBTeWRiCvtFu')"
   ],
   "id": "f6ed7578260c3976",
   "outputs": [
    {
     "name": "stdout",
     "output_type": "stream",
     "text": [
      "Cantidad de stock para el producto con ID FNxEraBTeWRiCvtFu: 45\n"
     ]
    },
    {
     "data": {
      "text/plain": [
       "45"
      ]
     },
     "execution_count": 12,
     "metadata": {},
     "output_type": "execute_result"
    }
   ],
   "execution_count": 12
  },
  {
   "metadata": {
    "ExecuteTime": {
     "end_time": "2024-10-26T17:15:18.877987Z",
     "start_time": "2024-10-26T17:15:18.863032Z"
    }
   },
   "cell_type": "code",
   "source": [
    "# Verificar el DataFrame actualizado\n",
    "df_actualizado = gestor_stock.obtener_dataframe()\n",
    "df_actualizado.head()"
   ],
   "id": "e39e79375c405842",
   "outputs": [
    {
     "data": {
      "text/plain": [
       "              Name Variation DIY  Buy  Sell Color 1   Color 2 Size  \\\n",
       "0       3D glasses     White  No  490   122   White  Colorful  1x1   \n",
       "1       3D glasses     Black  No  490   122   Black  Colorful  1x1   \n",
       "2          bandage     Beige  No  140    35   Beige     White  1x1   \n",
       "3             beak    Yellow  No  490   122  Yellow    Yellow  1x1   \n",
       "4  birthday shades    Yellow  No  NFS   620  Yellow       Red  1x1   \n",
       "\n",
       "   Miles Price        Source  ... Version     Style  \\\n",
       "0          NaN  Able Sisters  ...   1.0.0    Active   \n",
       "1          NaN  Able Sisters  ...   1.0.0    Active   \n",
       "2          NaN  Able Sisters  ...   1.0.0    Active   \n",
       "3          NaN  Able Sisters  ...   1.0.0      Cute   \n",
       "4          NaN      Birthday  ...   1.0.0  Gorgeous   \n",
       "\n",
       "                    Label Themes                         Type  \\\n",
       "0                          party                 AccessoryEye   \n",
       "1                          party                 AccessoryEye   \n",
       "2       outdoorsy; comfy; sporty               AccessoryMouth   \n",
       "3  fairy tale; party; theatrical  AccessoryMouthInvisibleNose   \n",
       "4                          party                 AccessoryEye   \n",
       "\n",
       "  Villager Equippable       Catalog                   Filename Internal ID  \\\n",
       "0                 Yes      For sale      AccessoryGlassThreed0        4463   \n",
       "1                 Yes      For sale      AccessoryGlassThreed1       11020   \n",
       "2                  No      For sale  AccessoryMouthBandageSkin        4677   \n",
       "3                  No      For sale   AccessoryMouthBeakYellow        3549   \n",
       "4                 Yes  Not for sale    AccessoryGlassBirthday0        4510   \n",
       "\n",
       "     Unique Entry ID Stock  \n",
       "0  FNxEraBTeWRiCvtFu    45  \n",
       "1  mM9SXPCcGPfPJAmtm     0  \n",
       "2  2qFT5iPkk8bREvpkj     0  \n",
       "3  T5CpsJi4xBSachNL5     0  \n",
       "4  S6CiB9ZvzBTMhEnDz     0  \n",
       "\n",
       "[5 rows x 23 columns]"
      ],
      "text/html": [
       "<div>\n",
       "<style scoped>\n",
       "    .dataframe tbody tr th:only-of-type {\n",
       "        vertical-align: middle;\n",
       "    }\n",
       "\n",
       "    .dataframe tbody tr th {\n",
       "        vertical-align: top;\n",
       "    }\n",
       "\n",
       "    .dataframe thead th {\n",
       "        text-align: right;\n",
       "    }\n",
       "</style>\n",
       "<table border=\"1\" class=\"dataframe\">\n",
       "  <thead>\n",
       "    <tr style=\"text-align: right;\">\n",
       "      <th></th>\n",
       "      <th>Name</th>\n",
       "      <th>Variation</th>\n",
       "      <th>DIY</th>\n",
       "      <th>Buy</th>\n",
       "      <th>Sell</th>\n",
       "      <th>Color 1</th>\n",
       "      <th>Color 2</th>\n",
       "      <th>Size</th>\n",
       "      <th>Miles Price</th>\n",
       "      <th>Source</th>\n",
       "      <th>...</th>\n",
       "      <th>Version</th>\n",
       "      <th>Style</th>\n",
       "      <th>Label Themes</th>\n",
       "      <th>Type</th>\n",
       "      <th>Villager Equippable</th>\n",
       "      <th>Catalog</th>\n",
       "      <th>Filename</th>\n",
       "      <th>Internal ID</th>\n",
       "      <th>Unique Entry ID</th>\n",
       "      <th>Stock</th>\n",
       "    </tr>\n",
       "  </thead>\n",
       "  <tbody>\n",
       "    <tr>\n",
       "      <th>0</th>\n",
       "      <td>3D glasses</td>\n",
       "      <td>White</td>\n",
       "      <td>No</td>\n",
       "      <td>490</td>\n",
       "      <td>122</td>\n",
       "      <td>White</td>\n",
       "      <td>Colorful</td>\n",
       "      <td>1x1</td>\n",
       "      <td>NaN</td>\n",
       "      <td>Able Sisters</td>\n",
       "      <td>...</td>\n",
       "      <td>1.0.0</td>\n",
       "      <td>Active</td>\n",
       "      <td>party</td>\n",
       "      <td>AccessoryEye</td>\n",
       "      <td>Yes</td>\n",
       "      <td>For sale</td>\n",
       "      <td>AccessoryGlassThreed0</td>\n",
       "      <td>4463</td>\n",
       "      <td>FNxEraBTeWRiCvtFu</td>\n",
       "      <td>45</td>\n",
       "    </tr>\n",
       "    <tr>\n",
       "      <th>1</th>\n",
       "      <td>3D glasses</td>\n",
       "      <td>Black</td>\n",
       "      <td>No</td>\n",
       "      <td>490</td>\n",
       "      <td>122</td>\n",
       "      <td>Black</td>\n",
       "      <td>Colorful</td>\n",
       "      <td>1x1</td>\n",
       "      <td>NaN</td>\n",
       "      <td>Able Sisters</td>\n",
       "      <td>...</td>\n",
       "      <td>1.0.0</td>\n",
       "      <td>Active</td>\n",
       "      <td>party</td>\n",
       "      <td>AccessoryEye</td>\n",
       "      <td>Yes</td>\n",
       "      <td>For sale</td>\n",
       "      <td>AccessoryGlassThreed1</td>\n",
       "      <td>11020</td>\n",
       "      <td>mM9SXPCcGPfPJAmtm</td>\n",
       "      <td>0</td>\n",
       "    </tr>\n",
       "    <tr>\n",
       "      <th>2</th>\n",
       "      <td>bandage</td>\n",
       "      <td>Beige</td>\n",
       "      <td>No</td>\n",
       "      <td>140</td>\n",
       "      <td>35</td>\n",
       "      <td>Beige</td>\n",
       "      <td>White</td>\n",
       "      <td>1x1</td>\n",
       "      <td>NaN</td>\n",
       "      <td>Able Sisters</td>\n",
       "      <td>...</td>\n",
       "      <td>1.0.0</td>\n",
       "      <td>Active</td>\n",
       "      <td>outdoorsy; comfy; sporty</td>\n",
       "      <td>AccessoryMouth</td>\n",
       "      <td>No</td>\n",
       "      <td>For sale</td>\n",
       "      <td>AccessoryMouthBandageSkin</td>\n",
       "      <td>4677</td>\n",
       "      <td>2qFT5iPkk8bREvpkj</td>\n",
       "      <td>0</td>\n",
       "    </tr>\n",
       "    <tr>\n",
       "      <th>3</th>\n",
       "      <td>beak</td>\n",
       "      <td>Yellow</td>\n",
       "      <td>No</td>\n",
       "      <td>490</td>\n",
       "      <td>122</td>\n",
       "      <td>Yellow</td>\n",
       "      <td>Yellow</td>\n",
       "      <td>1x1</td>\n",
       "      <td>NaN</td>\n",
       "      <td>Able Sisters</td>\n",
       "      <td>...</td>\n",
       "      <td>1.0.0</td>\n",
       "      <td>Cute</td>\n",
       "      <td>fairy tale; party; theatrical</td>\n",
       "      <td>AccessoryMouthInvisibleNose</td>\n",
       "      <td>No</td>\n",
       "      <td>For sale</td>\n",
       "      <td>AccessoryMouthBeakYellow</td>\n",
       "      <td>3549</td>\n",
       "      <td>T5CpsJi4xBSachNL5</td>\n",
       "      <td>0</td>\n",
       "    </tr>\n",
       "    <tr>\n",
       "      <th>4</th>\n",
       "      <td>birthday shades</td>\n",
       "      <td>Yellow</td>\n",
       "      <td>No</td>\n",
       "      <td>NFS</td>\n",
       "      <td>620</td>\n",
       "      <td>Yellow</td>\n",
       "      <td>Red</td>\n",
       "      <td>1x1</td>\n",
       "      <td>NaN</td>\n",
       "      <td>Birthday</td>\n",
       "      <td>...</td>\n",
       "      <td>1.0.0</td>\n",
       "      <td>Gorgeous</td>\n",
       "      <td>party</td>\n",
       "      <td>AccessoryEye</td>\n",
       "      <td>Yes</td>\n",
       "      <td>Not for sale</td>\n",
       "      <td>AccessoryGlassBirthday0</td>\n",
       "      <td>4510</td>\n",
       "      <td>S6CiB9ZvzBTMhEnDz</td>\n",
       "      <td>0</td>\n",
       "    </tr>\n",
       "  </tbody>\n",
       "</table>\n",
       "<p>5 rows × 23 columns</p>\n",
       "</div>"
      ]
     },
     "execution_count": 13,
     "metadata": {},
     "output_type": "execute_result"
    }
   ],
   "execution_count": 13
  },
  {
   "metadata": {},
   "cell_type": "code",
   "outputs": [],
   "execution_count": null,
   "source": "",
   "id": "c938ba5264c9406a"
  }
 ],
 "metadata": {
  "kernelspec": {
   "display_name": "Python 3",
   "language": "python",
   "name": "python3"
  },
  "language_info": {
   "codemirror_mode": {
    "name": "ipython",
    "version": 2
   },
   "file_extension": ".py",
   "mimetype": "text/x-python",
   "name": "python",
   "nbconvert_exporter": "python",
   "pygments_lexer": "ipython2",
   "version": "2.7.6"
  }
 },
 "nbformat": 4,
 "nbformat_minor": 5
}
